{
 "cells": [
  {
   "cell_type": "markdown",
   "id": "5066b9fa-95af-49d2-891e-53260adcfef9",
   "metadata": {},
   "source": [
    "# ID_Generator"
   ]
  },
  {
   "cell_type": "code",
   "execution_count": 1,
   "id": "6621d6c5-40ee-4a6e-94bb-fda6d55eddf6",
   "metadata": {},
   "outputs": [
    {
     "name": "stdin",
     "output_type": "stream",
     "text": [
      "What is your first name:  Jorge Gustavo\n"
     ]
    }
   ],
   "source": [
    "# input() function ask the user to enter information\n",
    "first_name = input(\"What is your first name: \")"
   ]
  },
  {
   "cell_type": "code",
   "execution_count": 2,
   "id": "0c97d869-80e4-4f16-8672-b3d73159a12e",
   "metadata": {},
   "outputs": [
    {
     "data": {
      "text/plain": [
       "'Jorge Gustavo'"
      ]
     },
     "execution_count": 2,
     "metadata": {},
     "output_type": "execute_result"
    }
   ],
   "source": [
    "first_name"
   ]
  },
  {
   "cell_type": "code",
   "execution_count": 2,
   "id": "06d9c21f-875f-466e-b99c-4d9c8a44544c",
   "metadata": {},
   "outputs": [
    {
     "data": {
      "text/plain": [
       "str"
      ]
     },
     "execution_count": 2,
     "metadata": {},
     "output_type": "execute_result"
    }
   ],
   "source": [
    "#the information given by the user will be stored as string\n",
    "type(first_name)"
   ]
  },
  {
   "cell_type": "code",
   "execution_count": 3,
   "id": "a6c82958-8491-4034-9edc-dec5defd06fa",
   "metadata": {},
   "outputs": [
    {
     "name": "stdout",
     "output_type": "stream",
     "text": [
      "jorge gustavo\n"
     ]
    }
   ],
   "source": [
    "#there are many string operation, such as converting to lowercase\n",
    "#string operations are applied with .method()\n",
    "first_name = first_name.lower()\n",
    "print(first_name)"
   ]
  },
  {
   "cell_type": "code",
   "execution_count": 4,
   "id": "cc8b9132-0c88-423e-bac7-25c613eaddab",
   "metadata": {},
   "outputs": [
    {
     "name": "stdout",
     "output_type": "stream",
     "text": [
      "['jorge', 'gustavo']\n"
     ]
    }
   ],
   "source": [
    "#Another string operation is to split the string\n",
    "#for example, if I want to split the string and get \"jorge\" and \"gustavo\"\n",
    "# in a list as two separate strings:\n",
    "\n",
    "list_name = first_name.split(\" \")\n",
    "print(list_name)"
   ]
  },
  {
   "cell_type": "code",
   "execution_count": 5,
   "id": "7cc3f255-2d92-4d0f-9691-309fe3b9109e",
   "metadata": {},
   "outputs": [
    {
     "name": "stdout",
     "output_type": "stream",
     "text": [
      "jg\n"
     ]
    }
   ],
   "source": [
    "#if I want to get the first letter of each element in the list\n",
    "id_raw = \"\"\n",
    "for word in list_name:\n",
    "    first_letter = word[0]\n",
    "    id_raw = id_raw + first_letter\n",
    "print(id_raw)"
   ]
  },
  {
   "cell_type": "code",
   "execution_count": 6,
   "id": "bedc953b-2894-4548-99be-050070f679f5",
   "metadata": {},
   "outputs": [
    {
     "name": "stdout",
     "output_type": "stream",
     "text": [
      "jg_\n"
     ]
    }
   ],
   "source": [
    "initials = id_raw + \"_\"\n",
    "print(initials)"
   ]
  },
  {
   "cell_type": "code",
   "execution_count": 8,
   "id": "72dbe37d-c120-462b-82d4-b87b907a843b",
   "metadata": {},
   "outputs": [
    {
     "name": "stdin",
     "output_type": "stream",
     "text": [
      "in which year were you born: 1991\n"
     ]
    }
   ],
   "source": [
    "#asking for the year born:\n",
    "year_born = input(\"in which year were you born:\")"
   ]
  },
  {
   "cell_type": "code",
   "execution_count": 9,
   "id": "28b136d8-0b28-4bb7-9ec9-80ffad028233",
   "metadata": {},
   "outputs": [
    {
     "name": "stdout",
     "output_type": "stream",
     "text": [
      "1991\n"
     ]
    }
   ],
   "source": [
    "print(year_born)"
   ]
  },
  {
   "cell_type": "code",
   "execution_count": 10,
   "id": "af313aef-51c7-489f-86bb-637b2823b831",
   "metadata": {},
   "outputs": [
    {
     "name": "stdout",
     "output_type": "stream",
     "text": [
      "<class 'str'>\n"
     ]
    }
   ],
   "source": [
    "#checking the type again\n",
    "print(type(year_born))"
   ]
  },
  {
   "cell_type": "code",
   "execution_count": 11,
   "id": "da0ef137-8a97-43b7-ad0b-52df74e971f1",
   "metadata": {},
   "outputs": [
    {
     "name": "stdout",
     "output_type": "stream",
     "text": [
      "<class 'int'>\n"
     ]
    }
   ],
   "source": [
    "#converting the data type\n",
    "year_born = int(year_born) #int for integer\n",
    "print(type(year_born))"
   ]
  }
 ],
 "metadata": {
  "kernelspec": {
   "display_name": "ASDA205",
   "language": "python",
   "name": "asda205"
  },
  "language_info": {
   "codemirror_mode": {
    "name": "ipython",
    "version": 3
   },
   "file_extension": ".py",
   "mimetype": "text/x-python",
   "name": "python",
   "nbconvert_exporter": "python",
   "pygments_lexer": "ipython3",
   "version": "3.14.0"
  }
 },
 "nbformat": 4,
 "nbformat_minor": 5
}
